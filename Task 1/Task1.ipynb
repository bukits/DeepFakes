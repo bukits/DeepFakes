{
  "cells": [
    {
      "cell_type": "markdown",
      "source": [
        "### Importing Libraries and mounting drive"
      ],
      "metadata": {
        "id": "-1E4ruOKKKPr"
      }
    },
    {
      "cell_type": "code",
      "source": [
        "!pip install face_recognition"
      ],
      "metadata": {
        "id": "bfVam-fKIHjI"
      },
      "execution_count": null,
      "outputs": []
    },
    {
      "cell_type": "code",
      "source": [
        "from google.colab import drive\n",
        "drive.mount('/content/drive')"
      ],
      "metadata": {
        "colab": {
          "base_uri": "https://localhost:8080/"
        },
        "id": "W97ipG8nIOfE",
        "outputId": "c8beed43-b811-41af-9dc8-8991bfa844d1"
      },
      "execution_count": null,
      "outputs": [
        {
          "output_type": "stream",
          "name": "stdout",
          "text": [
            "Mounted at /content/drive\n"
          ]
        }
      ]
    },
    {
      "cell_type": "code",
      "execution_count": null,
      "metadata": {
        "id": "-G4dRHuxHqSF"
      },
      "outputs": [],
      "source": [
        "import numpy as np\n",
        "import matplotlib.pyplot as plt\n",
        "import pandas as pd\n",
        "import os\n",
        "\n",
        "# import face_recognition\n",
        "import random\n",
        "import cv2\n",
        "# import torch\n",
        "import pywt\n",
        "\n",
        "# from torch.utils.data import DataLoader\n",
        "\n",
        "from skimage.filters import gabor_kernel\n",
        "\n",
        "import dlib\n",
        "from scipy import ndimage as ndi\n",
        "\n",
        "import tensorflow as tf\n",
        "from tensorflow import keras\n",
        "from keras import backend as K\n",
        "from keras.utils.vis_utils import plot_model\n",
        "\n",
        "from keras.layers import Input, Dense, concatenate, Conv2D, MaxPool2D, Dropout, Flatten\n",
        "from keras.models import Model\n",
        "\n",
        "from sklearn.metrics import confusion_matrix, accuracy_score, f1_score"
      ]
    },
    {
      "cell_type": "markdown",
      "source": [
        "### All Functions"
      ],
      "metadata": {
        "id": "2oyBXKHENaiP"
      }
    },
    {
      "cell_type": "code",
      "execution_count": null,
      "metadata": {
        "id": "wtKoHlUaHqSL"
      },
      "outputs": [],
      "source": [
        "def find_biggest_BLOb(BLObs):\n",
        "    areas = []\n",
        "    for face in BLObs:\n",
        "        x1 = face.left() # left point\n",
        "        y1 = face.top() # top point\n",
        "        x2 = face.right() # right point\n",
        "        y2 = face.bottom() # bottom point\n",
        "        w = abs(x2 - x1)\n",
        "        h = abs(y2 - y1)\n",
        "        areas.append(w * h)    \n",
        "    return areas.index(max(areas))\n"
      ]
    },
    {
      "cell_type": "code",
      "execution_count": null,
      "metadata": {
        "id": "_M5RDRjiHqSM"
      },
      "outputs": [],
      "source": [
        "def get_face(faces, image):\n",
        "    if len(faces) > 0:\n",
        "        face_index = find_biggest_BLOb(faces)\n",
        "        face = faces[face_index]\n",
        "    \n",
        "        x1 = abs(face.left()) # left point\n",
        "        y1 = face.top() # top point\n",
        "        x2 = face.right() # right point\n",
        "        y2 = face.bottom() # bottom point\n",
        "        w = abs(x2 - x1)\n",
        "        h = abs(y2 - y1)\n",
        "        face_crop = image[y1:y1 + h, x1:x1 + w]\n",
        "    else:\n",
        "        face_crop = None\n",
        "        face = None\n",
        "    return face_crop, face"
      ]
    },
    {
      "cell_type": "code",
      "execution_count": null,
      "metadata": {
        "id": "vh1hMFIgHqSN"
      },
      "outputs": [],
      "source": [
        "def crop_img (image):\n",
        "    detector = dlib.get_frontal_face_detector()\n",
        "    predictor = dlib.shape_predictor(\"/content/drive/MyDrive/Colab Notebooks/shape_predictor_68_face_landmarks.dat\")\n",
        "    \n",
        "    faces = detector(image)\n",
        "            \n",
        "    [face_crop, face] = get_face(faces, image)\n",
        "        \n",
        "    if face != None:\n",
        "        isLandmarkWorking = True\n",
        "        landmarks = predictor(image=image, box=face)\n",
        "    else:\n",
        "        isLandmarkWorking = False\n",
        "        face_crop = face_recognition.face_locations(image)\n",
        "        if len(face_crop) > 0:\n",
        "            x, y, w, h = face_crop[0]\n",
        "            if h == 0:\n",
        "                h = 92\n",
        "            face_crop = image[y:y + h, x:x + w]\n",
        "        else:\n",
        "            face_crop = image\n",
        "\n",
        "    return [face_crop]"
      ]
    },
    {
      "cell_type": "code",
      "execution_count": null,
      "metadata": {
        "id": "M4MJzz9mHqSO"
      },
      "outputs": [],
      "source": [
        "def summer(decomposition):\n",
        "    keys = ['face']\n",
        "    HAAR_features = []\n",
        "    for key in keys:\n",
        "        cA, (cH, cV, cD) = decomposition[key]\n",
        "        HAAR_features.append(round(np.sum(cA),1))\n",
        "        HAAR_features.append(round(np.sum(cH),1))\n",
        "#         HAAR_features.append(round(np.sum(cV),1))\n",
        "        HAAR_features.append(round(np.sum(cD),1))\n",
        "#         HAAR_features.append(np.sum(cA),np.sum(cH),np.sum(cV),np.sum(cD))\n",
        "    return HAAR_features"
      ]
    },
    {
      "cell_type": "code",
      "execution_count": null,
      "metadata": {
        "id": "6PB40cVYHqSO"
      },
      "outputs": [],
      "source": [
        "def HAAR_filter(face):\n",
        "    decompositions = {'face':[]}\n",
        "    try:\n",
        "      decompositions['face'] = pywt.dwt2(face,'haar','constant')\n",
        "    except:\n",
        "      decompositions['face'] = 1,(1,1,1)\n",
        "    # decompositions['face'] = pywt.dwt2(face,'haar','constant')\n",
        "    return decompositions"
      ]
    },
    {
      "cell_type": "code",
      "execution_count": null,
      "metadata": {
        "id": "f6kt2-0sHqSP"
      },
      "outputs": [],
      "source": [
        "def Gabor_filter():\n",
        "    kernels = []\n",
        "    angles = [0,22.5,45,67.5,90,112.5,135, 157.5, 180] #determines what orientation kernels respond to\n",
        "    frequencies = [0.2,0.3,0.4] #determines sensitivity to gradients (lines)\n",
        "\n",
        "    for theta in angles:\n",
        "        for frequency in frequencies:\n",
        "            kernel = np.real(gabor_kernel(frequency, theta=theta))\n",
        "            kernels.append(kernel)\n",
        "                             \n",
        "    return kernels"
      ]
    },
    {
      "cell_type": "code",
      "execution_count": null,
      "metadata": {
        "id": "TFGH_wo-HqSP"
      },
      "outputs": [],
      "source": [
        "def compute_Gabor_features(face, kernels):\n",
        "    features = []\n",
        "    \n",
        "    for k, kernel in enumerate(kernels):\n",
        "        filtered = ndi.convolve(face, kernel, mode='wrap')\n",
        "        features.append((np.sum(filtered)))\n",
        "    \n",
        "    return features"
      ]
    },
    {
      "cell_type": "code",
      "execution_count": null,
      "metadata": {
        "id": "9Da11KCAHqSQ"
      },
      "outputs": [],
      "source": [
        "def create_haar_features(folder_path, target): \n",
        "    column_names = [str(x) for x in range(31)]\n",
        "    df = pd.DataFrame(columns=column_names)\n",
        "\n",
        "\n",
        "    for dirpath, dirnames, filenames in os.walk(folder_path):\n",
        "        for filename in filenames:\n",
        "            if filename.endswith('.jpg'):\n",
        "                source_file = os.path.join(dirpath, filename)\n",
        "                image = cv2.imread(source_file, cv2.IMREAD_GRAYSCALE)\n",
        "                \n",
        "                [face] = crop_img(image)\n",
        "          \n",
        "            \n",
        "                decompositions = HAAR_filter(face)\n",
        "                HAAR_features = summer(decompositions)\n",
        "\n",
        "\n",
        "                features = HAAR_features\n",
        "    \n",
        "                \n",
        "                kernels = Gabor_filter()\n",
        "                Gabor_features = compute_Gabor_features(face, kernels)\n",
        "                [features.append(feat) for feat in Gabor_features]\n",
        "                features = np.append(features,target)\n",
        "\n",
        "                \n",
        "                df.loc[len(df), :] = features\n",
        "                \n",
        "                \n",
        "    return [df]"
      ]
    },
    {
      "cell_type": "code",
      "execution_count": null,
      "metadata": {
        "id": "LYhicgx3HqSp"
      },
      "outputs": [],
      "source": [
        "def face_as_df(folder_path, target):\n",
        "    column_names = [str(x) for x in range(3601)]\n",
        "    df = pd.DataFrame(columns=column_names)\n",
        "    \n",
        "    counter = 0\n",
        "    \n",
        "    for dirpath, dirnames, filenames in os.walk(folder_path):\n",
        "        for filename in filenames:\n",
        "            if filename.endswith('.jpg'):\n",
        "                source_file = os.path.join(dirpath, filename)\n",
        "                image = cv2.imread(source_file, cv2.IMREAD_GRAYSCALE)\n",
        "                \n",
        "                [face] = crop_img(image)\n",
        "\n",
        "                if len(face) > 0:\n",
        "                  resized_face = cv2.resize(face, (60, 60))\n",
        "\n",
        "                else:\n",
        "                  resized_face = cv2.resize(image, (60, 60))\n",
        "                \n",
        "                features = resized_face.flatten()\n",
        "                \n",
        "                features = np.append(features,target)\n",
        "                \n",
        "                df.loc[len(df), :] = features\n",
        "                \n",
        "                \n",
        "    return [df]"
      ]
    },
    {
      "cell_type": "markdown",
      "source": [
        "### Creating datasets"
      ],
      "metadata": {
        "id": "IIbrGpBBKxsh"
      }
    },
    {
      "cell_type": "code",
      "source": [
        "def get_data(mode):\n",
        "  if mode == 'scratch':\n",
        "    !unzip /content/drive/MyDrive/development.zip -d /content/drive/MyDrive/\n",
        "    !unzip /content/drive/MyDrive/evaluation.zip -d /content/drive/MyDrive/\n",
        "    \n",
        "    #To get handcrafted features\n",
        "        #Development data\n",
        "    df_haar_real = create_haar_features('/content/drive/MyDrive/development/real', 'real')\n",
        "    df_haar_fake = create_haar_features('/content/drive/MyDrive/development/fake', 'fake')  \n",
        "    df = pd.concat([df_haar_real, df_haar_fake], axis=0).reset_index(drop=True)\n",
        "        #Evaluation data\n",
        "    test_haar_real = create_haar_features('/content/drive/MyDrive/evaluation/real', 'real')\n",
        "    test_haar_fake = create_haar_features('/content/drive/MyDrive/evaluation/fake', 'fake')\n",
        "    df_test = pd.concat([test_haar_real, test_haar_fake], axis=0).reset_index(drop=True)\n",
        "\n",
        "    #To get face image for CNN features\n",
        "        #Development data\n",
        "    df_face_real = face_as_df('/content/drive/MyDrive/development/real', 'real')\n",
        "    df_face_fake = face_as_df('/content/drive/MyDrive/development/fake', 'fake')\n",
        "    df_face = pd.concat([df_face_real, df_face_fake], axis=0).reset_index(drop=True)  \n",
        "        #Evaluation data\n",
        "    test_face_real = face_as_df('/content/drive/MyDrive/evaluation/real', 'real')\n",
        "    test_face_fake = face_as_df('/content/drive/MyDrive/evaluation/fake', 'fake')\n",
        "    df_face_test = pd.concat([test_face_real, test_face_fake], axis=0).reset_index(drop=True)\n",
        "\n",
        "    test_face_real = face_as_df('/content/drive/MyDrive/Celeb_evaluation/real', 'real')\n",
        "    test_face_fake = face_as_df('/content/drive/MyDrive/Celeb_evaluation/fake', 'fake')\n",
        "    df_face_test = pd.concat([test_face_real, test_face_fake], axis=0).reset_index(drop=True)\n",
        "\n",
        "  else:\n",
        "    #To get handcrafted features\n",
        "    df = pd.read_csv('/content/drive/MyDrive/df_unshuffled.csv')\n",
        "    df_test = pd.read_csv('/content/drive/MyDrive/df_test_unshuffled.csv') \n",
        "\n",
        "    df = df.drop(df.columns[0],axis=1) #To drop index column added \n",
        "    df_test = df_test.drop(df_test.columns[0],axis=1) #To drop index column added \n",
        "\n",
        "    #To get face image for CNN features\n",
        "    df_face = pd.read_csv('/content/drive/MyDrive/df_face_unshuffled.csv')\n",
        "    df_face_test = pd.read_csv('/content/drive/MyDrive/df_face_test_unshuffled.csv') \n",
        "\n",
        "    df_face = df_face.drop(df_face.columns[0],axis=1) #To drop index column added \n",
        "    df_face_test = df_face_test.drop(df_face_test.columns[0],axis=1) #To drop index column added \n",
        "\n",
        "\n",
        "  return [df, df_face, df_test, df_face_test]"
      ],
      "metadata": {
        "id": "lmtFCsSdLIXB"
      },
      "execution_count": null,
      "outputs": []
    },
    {
      "cell_type": "code",
      "source": [
        "mode = 'from_df'\n",
        "[df, df_face, df_test, df_face_test] = get_data(mode)"
      ],
      "metadata": {
        "id": "8ADAJzHNZkxN"
      },
      "execution_count": null,
      "outputs": []
    },
    {
      "cell_type": "markdown",
      "metadata": {
        "id": "_UCFOOWQHqSJ"
      },
      "source": [
        "### Preprocessing & feature extraction"
      ]
    },
    {
      "cell_type": "markdown",
      "source": [
        "##### Processing Face Image and resizing for CNN"
      ],
      "metadata": {
        "id": "HmxAjsUxQbUW"
      }
    },
    {
      "cell_type": "code",
      "execution_count": null,
      "metadata": {
        "id": "uAHR92VfHqSs"
      },
      "outputs": [],
      "source": [
        "#Mapping from Real and Fake to 0 and 1\n",
        "df_face['3600'] = df_face['3600'].map({'real': 0, 'fake': 1}) #Development\n",
        "df_face_test['3600'] = df_face_test['3600'].map({'real': 0, 'fake': 1}) #Evaluation"
      ]
    },
    {
      "cell_type": "code",
      "execution_count": null,
      "metadata": {
        "id": "pof3z4-vHqSs"
      },
      "outputs": [],
      "source": [
        "#Obtaining target classes\n",
        "face_train_labels = df_face['3600'] #Development\n",
        "face_test_labels = df_face_test['3600'] #Evaluation"
      ]
    },
    {
      "cell_type": "code",
      "execution_count": null,
      "metadata": {
        "id": "7KkNf3TgHqSs"
      },
      "outputs": [],
      "source": [
        "#One hot encoding of target classes\n",
        "face_train_labels_one_hot = keras.utils.to_categorical(face_train_labels, 2) #Development\n",
        "face_test_labels_one_hot = keras.utils.to_categorical(face_test_labels, 2) #Evaluation"
      ]
    },
    {
      "cell_type": "code",
      "execution_count": null,
      "metadata": {
        "id": "Wm6f4n3kHqSt"
      },
      "outputs": [],
      "source": [
        "#Obtaining features / attributes\n",
        "face_train_data = df_face.drop(columns=['3600']) #Development\n",
        "face_test_data = df_face_test.drop(columns=['3600']) #Evaluation"
      ]
    },
    {
      "cell_type": "code",
      "execution_count": null,
      "metadata": {
        "id": "PFco0AJzHqSt"
      },
      "outputs": [],
      "source": [
        "#Converting features into images of size (60x60) by reshaping\n",
        "face_x_train = np.array([np.array(face_train_data.loc[x,:]).reshape((60, 60)) for x in range(face_train_data.shape[0])])\n",
        "face_x_test = np.array([np.array(face_test_data.loc[x,:]).reshape((60, 60)) for x in range(face_test_data.shape[0])])"
      ]
    },
    {
      "cell_type": "markdown",
      "source": [
        "##### Processing Handcrafted Feature obtained Haar and Gabor filters"
      ],
      "metadata": {
        "id": "sb4HGpyvPiOv"
      }
    },
    {
      "cell_type": "code",
      "execution_count": null,
      "metadata": {
        "id": "gEigveDjHqSv"
      },
      "outputs": [],
      "source": [
        "#Mapping from Real and Fake to 0 and 1\n",
        "df['30'] = df['30'].map({'real': 0, 'fake': 1})\n",
        "df_test['30'] = df_test['30'].map({'real': 0, 'fake': 1})"
      ]
    },
    {
      "cell_type": "code",
      "execution_count": null,
      "metadata": {
        "id": "p2a-n4lCHqSv"
      },
      "outputs": [],
      "source": [
        "#Obtaining target classes\n",
        "train_labels = df['30']\n",
        "test_labels = df_test['30']"
      ]
    },
    {
      "cell_type": "code",
      "execution_count": null,
      "metadata": {
        "id": "MU0vEPfRHqSw"
      },
      "outputs": [],
      "source": [
        "#One hot encoding of target classes\n",
        "train_labels_one_hot = keras.utils.to_categorical(train_labels, 2)\n",
        "test_labels_one_hot = keras.utils.to_categorical(test_labels, 2)"
      ]
    },
    {
      "cell_type": "code",
      "execution_count": null,
      "metadata": {
        "id": "eM7TKjG_HqSw"
      },
      "outputs": [],
      "source": [
        "#Obtaining features / attributes\n",
        "train_data = df.drop(df.columns[-1],axis=1)\n",
        "test_data = df_test.drop(df_test.columns[-1],axis=1)"
      ]
    },
    {
      "cell_type": "markdown",
      "source": [
        "### Model Configuration"
      ],
      "metadata": {
        "id": "y-vyHgNqezrJ"
      }
    },
    {
      "cell_type": "code",
      "source": [
        "K.clear_session()\n",
        "\n",
        "# Creating the first input layer ==> of face images for CNN\n",
        "input_1 = Input(shape=(60,60,1))\n",
        "\n",
        "# Creating the second input layer ==> of handcrafted features to be added to CNN features\n",
        "input_2 = Input(shape=(30,))\n",
        "\n",
        "# Backbone CNN feature extractor model \n",
        "conv_1 = Conv2D(32, kernel_size=3, activation='relu')(input_1)\n",
        "max_1 = MaxPool2D(pool_size=2, strides=2)(conv_1)\n",
        "drop_1 = Dropout(rate=0.25)(max_1)\n",
        "\n",
        "conv_2 = Conv2D(64, kernel_size=3, activation='relu')(drop_1)\n",
        "max_2 = MaxPool2D(pool_size=2, strides=2)(conv_2)\n",
        "drop_2 = Dropout(rate=0.25)(max_2)\n",
        "\n",
        "#Flattening CNN features\n",
        "flattened = Flatten()(drop_2)\n",
        "\n",
        "# Concatenate the output of the first sub-model with the second input layer ==> Concatenating CNN features with handcrafted features\n",
        "concatenated = concatenate([flattened, input_2])\n",
        "\n",
        "# Creating fully connected classsifier\n",
        "dense_1 = Dense(256, activation='relu')(flattened)\n",
        "drop_3 = Dropout(rate=0.25)(dense_1)\n",
        "dense_2 = Dense(2, activation='sigmoid')(drop_3)"
      ],
      "metadata": {
        "id": "GxuXQHJifEpm"
      },
      "execution_count": null,
      "outputs": []
    },
    {
      "cell_type": "code",
      "source": [
        "# Defining the full model with both inputs\n",
        "model = Model(inputs=[input_1, input_2], outputs=dense_2)\n",
        "\n",
        "print(model.summary())\n",
        "plot_model(model, show_shapes=True, show_layer_names=True)"
      ],
      "metadata": {
        "id": "aq4vpBsofwE1"
      },
      "execution_count": null,
      "outputs": []
    },
    {
      "cell_type": "code",
      "source": [
        "model.compile(optimizer=keras.optimizers.Adam(learning_rate=1.e-3), loss='binary_crossentropy', metrics=['acc'])"
      ],
      "metadata": {
        "id": "5YLoFVZ1f56c"
      },
      "execution_count": null,
      "outputs": []
    },
    {
      "cell_type": "markdown",
      "source": [
        "### Model Training"
      ],
      "metadata": {
        "id": "S6l1yBGzgCF2"
      }
    },
    {
      "cell_type": "code",
      "source": [
        "nepochs = 50\n",
        "\n",
        "history = model.fit([np.asarray(face_x_train).astype('float32'),np.asarray(train_data).astype('float32')], \n",
        "                    train_labels_one_hot, epochs=nepochs, \n",
        "                    validation_data=None, batch_size=5)"
      ],
      "metadata": {
        "id": "yNK6_LJSgFxG"
      },
      "execution_count": null,
      "outputs": []
    },
    {
      "cell_type": "code",
      "source": [
        "model.save('task1_model.h5')"
      ],
      "metadata": {
        "id": "SdUx7os0gZoB"
      },
      "execution_count": null,
      "outputs": []
    },
    {
      "cell_type": "markdown",
      "source": [
        "### Importing the model"
      ],
      "metadata": {
        "id": "CMNfBHIASxV5"
      }
    },
    {
      "cell_type": "code",
      "source": [
        "model = keras.models.load_model('/content/drive/MyDrive/task1_model.h5')"
      ],
      "metadata": {
        "id": "8fCptuCVitPi"
      },
      "execution_count": null,
      "outputs": []
    },
    {
      "cell_type": "markdown",
      "source": [
        "### Evaluating model performance by comparing predictions to ground truth"
      ],
      "metadata": {
        "id": "0BFSZYfnS8QT"
      }
    },
    {
      "cell_type": "markdown",
      "source": [
        "##### Obtaining Groundtruth"
      ],
      "metadata": {
        "id": "RNKDWNC8TTd5"
      }
    },
    {
      "cell_type": "code",
      "source": [
        "def get_ground_truth():\n",
        "  zeros = np.zeros(face_test_labels.value_counts()[0]).astype(int).tolist()\n",
        "  ones = np.ones(face_test_labels.value_counts()[1]).astype(int).tolist()\n",
        "\n",
        "  y_true = zeros + ones\n",
        "  return y_true"
      ],
      "metadata": {
        "id": "vgOSYLDuTsnv"
      },
      "execution_count": null,
      "outputs": []
    },
    {
      "cell_type": "code",
      "source": [
        "y_true = get_ground_truth()"
      ],
      "metadata": {
        "id": "iptiNZWlUH2y"
      },
      "execution_count": null,
      "outputs": []
    },
    {
      "cell_type": "markdown",
      "source": [
        "##### Obtaining Predictions"
      ],
      "metadata": {
        "id": "xZ_pFiaHVoQV"
      }
    },
    {
      "cell_type": "code",
      "source": [
        "def get_result():\n",
        "  pred = model.predict([np.asarray(face_x_test).astype('float32'), np.asarray(test_data).astype('float32')])\n",
        "  result = []\n",
        "  for i in range(len(pred)):\n",
        "    if pred[i][0] > pred[i][1]:\n",
        "      result.append(0)\n",
        "    else:\n",
        "      result.append(1)\n",
        "\n",
        "  return result"
      ],
      "metadata": {
        "id": "6BHIo6gkfYNE"
      },
      "execution_count": null,
      "outputs": []
    },
    {
      "cell_type": "code",
      "source": [
        "y_pred = get_result()"
      ],
      "metadata": {
        "id": "iUI7s7XZczdf",
        "colab": {
          "base_uri": "https://localhost:8080/"
        },
        "outputId": "5d57913c-125e-402f-8b18-0c32ea772b3b"
      },
      "execution_count": null,
      "outputs": [
        {
          "output_type": "stream",
          "name": "stdout",
          "text": [
            "7/7 [==============================] - 8s 15ms/step\n"
          ]
        }
      ]
    },
    {
      "cell_type": "markdown",
      "source": [
        "##### Confusion Matrix"
      ],
      "metadata": {
        "id": "PNn2HCgiVss6"
      }
    },
    {
      "cell_type": "code",
      "source": [
        "print('Confusion Matrix:')\n",
        "print(confusion_matrix(y_true, y_pred))"
      ],
      "metadata": {
        "id": "NmUx9Zzyc1pp",
        "colab": {
          "base_uri": "https://localhost:8080/"
        },
        "outputId": "40d7e49a-f368-4a75-f820-89b3728b9bac"
      },
      "execution_count": null,
      "outputs": [
        {
          "output_type": "stream",
          "name": "stdout",
          "text": [
            "Confusion Matrix:\n",
            "[[99 11]\n",
            " [ 4 96]]\n"
          ]
        }
      ]
    },
    {
      "cell_type": "markdown",
      "source": [
        "##### Prediction Accuracy"
      ],
      "metadata": {
        "id": "2Zeos2nOW1Kv"
      }
    },
    {
      "cell_type": "code",
      "source": [
        "print(f'Accuracy is: {accuracy_score(y_true, y_pred)}')"
      ],
      "metadata": {
        "id": "J_NCFv2OWyN4",
        "colab": {
          "base_uri": "https://localhost:8080/"
        },
        "outputId": "c47cc446-709a-4c55-bbe5-d00d21655322"
      },
      "execution_count": null,
      "outputs": [
        {
          "output_type": "stream",
          "name": "stdout",
          "text": [
            "Accuracy is: 0.9285714285714286\n"
          ]
        }
      ]
    },
    {
      "cell_type": "markdown",
      "source": [
        "##### Plotting Curves"
      ],
      "metadata": {
        "id": "HhhbU0iUxxnp"
      }
    },
    {
      "cell_type": "code",
      "source": [
        "from sklearn.metrics import roc_curve, auc\n",
        "\n",
        "fpr, tpr, thresholds = roc_curve(y_true, y_pred)\n",
        "\n",
        "# Compute area under the curve (AUC)\n",
        "roc_auc = auc(fpr, tpr)\n",
        "\n",
        "# Plot ROC curve\n",
        "plt.plot(fpr, tpr, label=f'AUC = {roc_auc:.2f}',color='red')\n",
        "plt.plot([0, 1], [0, 1], linestyle='--', color='blue', label='Random Classifier')\n",
        "plt.xlabel('False Positive Rate')\n",
        "plt.ylabel('True Positive Rate')\n",
        "plt.title('Receiver Operating Characteristic (ROC) Curve')\n",
        "plt.legend()\n",
        "plt.show()"
      ],
      "metadata": {
        "colab": {
          "base_uri": "https://localhost:8080/",
          "height": 472
        },
        "id": "TPPczUyoxu-p",
        "outputId": "c39829fe-4f85-429c-a59d-25b19d32c063"
      },
      "execution_count": null,
      "outputs": [
        {
          "output_type": "display_data",
          "data": {
            "text/plain": [
              "<Figure size 640x480 with 1 Axes>"
            ],
            "image/png": "[encoded data removed]"
          },
          "metadata": {}
        }
      ]
    }
  ],
  "metadata": {
    "kernelspec": {
      "display_name": "Python 3 (ipykernel)",
      "language": "python",
      "name": "python3"
    },
    "language_info": {
      "codemirror_mode": {
        "name": "ipython",
        "version": 3
      },
      "file_extension": ".py",
      "mimetype": "text/x-python",
      "name": "python",
      "nbconvert_exporter": "python",
      "pygments_lexer": "ipython3",
      "version": "3.9.7"
    },
    "colab": {
      "provenance": [],
      "gpuType": "T4",
      "collapsed_sections": [
        "-1E4ruOKKKPr",
        "2oyBXKHENaiP",
        "IIbrGpBBKxsh",
        "_UCFOOWQHqSJ",
        "HmxAjsUxQbUW",
        "sb4HGpyvPiOv",
        "y-vyHgNqezrJ",
        "S6l1yBGzgCF2",
        "CMNfBHIASxV5",
        "RNKDWNC8TTd5",
        "xZ_pFiaHVoQV",
        "PNn2HCgiVss6"
      ]
    },
    "accelerator": "GPU",
    "gpuClass": "standard"
  },
  "nbformat": 4,
  "nbformat_minor": 0
}