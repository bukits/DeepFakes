{
  "cells": [
    {
      "cell_type": "markdown",
      "source": [
        "### Importing Libraries and mounting drive"
      ],
      "metadata": {
        "id": "-1E4ruOKKKPr"
      }
    },
    {
      "cell_type": "code",
      "source": [
        "!pip install face_recognition"
      ],
      "metadata": {
        "id": "bfVam-fKIHjI",
        "colab": {
          "base_uri": "https://localhost:8080/"
        },
        "outputId": "6946cffa-fc17-4aac-f31d-c2813f8c6e78"
      },
      "execution_count": 1,
      "outputs": [
        {
          "output_type": "stream",
          "name": "stdout",
          "text": [
            "Looking in indexes: https://pypi.org/simple, https://us-python.pkg.dev/colab-wheels/public/simple/\n",
            "Collecting face_recognition\n",
            "  Downloading face_recognition-1.3.0-py2.py3-none-any.whl (15 kB)\n",
            "Collecting face-recognition-models>=0.3.0 (from face_recognition)\n",
            "  Downloading face_recognition_models-0.3.0.tar.gz (100.1 MB)\n",
            "\u001b[2K     \u001b[90m━━━━━━━━━━━━━━━━━━━━━━━━━━━━━━━━━━━━━━━\u001b[0m \u001b[32m100.1/100.1 MB\u001b[0m \u001b[31m9.0 MB/s\u001b[0m eta \u001b[36m0:00:00\u001b[0m\n",
            "\u001b[?25h  Preparing metadata (setup.py) ... \u001b[?25l\u001b[?25hdone\n",
            "Requirement already satisfied: Click>=6.0 in /usr/local/lib/python3.10/dist-packages (from face_recognition) (8.1.3)\n",
            "Requirement already satisfied: dlib>=19.7 in /usr/local/lib/python3.10/dist-packages (from face_recognition) (19.24.1)\n",
            "Requirement already satisfied: numpy in /usr/local/lib/python3.10/dist-packages (from face_recognition) (1.22.4)\n",
            "Requirement already satisfied: Pillow in /usr/local/lib/python3.10/dist-packages (from face_recognition) (8.4.0)\n",
            "Building wheels for collected packages: face-recognition-models\n",
            "  Building wheel for face-recognition-models (setup.py) ... \u001b[?25l\u001b[?25hdone\n",
            "  Created wheel for face-recognition-models: filename=face_recognition_models-0.3.0-py2.py3-none-any.whl size=100566173 sha256=07021647a71b88bb335c110cb1ae9d749cc417a2dee56d8599cf74ee35d57fe9\n",
            "  Stored in directory: /root/.cache/pip/wheels/7a/eb/cf/e9eced74122b679557f597bb7c8e4c739cfcac526db1fd523d\n",
            "Successfully built face-recognition-models\n",
            "Installing collected packages: face-recognition-models, face_recognition\n",
            "Successfully installed face-recognition-models-0.3.0 face_recognition-1.3.0\n"
          ]
        }
      ]
    },
    {
      "cell_type": "code",
      "source": [
        "from google.colab import drive\n",
        "drive.mount('/content/drive')"
      ],
      "metadata": {
        "colab": {
          "base_uri": "https://localhost:8080/"
        },
        "id": "W97ipG8nIOfE",
        "outputId": "468a09c3-afb1-42b1-b6b5-a827de611933"
      },
      "execution_count": 57,
      "outputs": [
        {
          "output_type": "stream",
          "name": "stdout",
          "text": [
            "Drive already mounted at /content/drive; to attempt to forcibly remount, call drive.mount(\"/content/drive\", force_remount=True).\n"
          ]
        }
      ]
    },
    {
      "cell_type": "code",
      "execution_count": 5,
      "metadata": {
        "id": "-G4dRHuxHqSF"
      },
      "outputs": [],
      "source": [
        "import numpy as np\n",
        "import matplotlib.pyplot as plt\n",
        "import pandas as pd\n",
        "import os\n",
        "\n",
        "# import torchvision.transforms as transforms\n",
        "# from torchvision.datasets import ImageFolder\n",
        "# import face_recognition\n",
        "import random\n",
        "import cv2\n",
        "# import torch\n",
        "import pywt\n",
        "\n",
        "# from torch.utils.data import DataLoader\n",
        "\n",
        "from skimage.filters import gabor_kernel\n",
        "\n",
        "import dlib\n",
        "from scipy import ndimage as ndi\n",
        "\n",
        "import tensorflow as tf\n",
        "from tensorflow import keras\n",
        "from keras import backend as K\n",
        "from keras.utils.vis_utils import plot_model\n",
        "\n",
        "from sklearn.metrics import confusion_matrix, accuracy_score, f1_score"
      ]
    },
    {
      "cell_type": "markdown",
      "source": [
        "### All Functions"
      ],
      "metadata": {
        "id": "2oyBXKHENaiP"
      }
    },
    {
      "cell_type": "code",
      "execution_count": 6,
      "metadata": {
        "id": "wtKoHlUaHqSL"
      },
      "outputs": [],
      "source": [
        "def find_biggest_BLOb(BLObs):\n",
        "    areas = []\n",
        "    for face in BLObs:\n",
        "        x1 = face.left() # left point\n",
        "        y1 = face.top() # top point\n",
        "        x2 = face.right() # right point\n",
        "        y2 = face.bottom() # bottom point\n",
        "        w = abs(x2 - x1)\n",
        "        h = abs(y2 - y1)\n",
        "        areas.append(w * h)    \n",
        "    return areas.index(max(areas))\n"
      ]
    },
    {
      "cell_type": "code",
      "execution_count": 7,
      "metadata": {
        "id": "_M5RDRjiHqSM"
      },
      "outputs": [],
      "source": [
        "def get_face(faces, image):\n",
        "    if len(faces) > 0:\n",
        "        face_index = find_biggest_BLOb(faces)\n",
        "        face = faces[face_index]\n",
        "    \n",
        "        x1 = abs(face.left()) # left point\n",
        "        y1 = face.top() # top point\n",
        "        x2 = face.right() # right point\n",
        "        y2 = face.bottom() # bottom point\n",
        "        w = abs(x2 - x1)\n",
        "        h = abs(y2 - y1)\n",
        "        face_crop = image[y1:y1 + h, x1:x1 + w]\n",
        "    else:\n",
        "        face_crop = None\n",
        "        face = None\n",
        "    return face_crop, face"
      ]
    },
    {
      "cell_type": "code",
      "execution_count": 8,
      "metadata": {
        "id": "vh1hMFIgHqSN"
      },
      "outputs": [],
      "source": [
        "def crop_img (image):\n",
        "    detector = dlib.get_frontal_face_detector()\n",
        "    predictor = dlib.shape_predictor(\"/content/drive/MyDrive/Colab Notebooks/shape_predictor_68_face_landmarks.dat\")\n",
        "    \n",
        "    faces = detector(image)\n",
        "            \n",
        "    [face_crop, face] = get_face(faces, image)\n",
        "        \n",
        "    if face != None:\n",
        "        isLandmarkWorking = True\n",
        "        landmarks = predictor(image=image, box=face)\n",
        "    else:\n",
        "        isLandmarkWorking = False\n",
        "        face_crop = face_recognition.face_locations(image)\n",
        "        if len(face_crop) > 0:\n",
        "            x, y, w, h = face_crop[0]\n",
        "            if h == 0:\n",
        "                h = 92\n",
        "            face_crop = image[y:y + h, x:x + w]\n",
        "        else:\n",
        "            face_crop = image\n",
        "\n",
        "    return [face_crop]"
      ]
    },
    {
      "cell_type": "code",
      "execution_count": 9,
      "metadata": {
        "id": "M4MJzz9mHqSO"
      },
      "outputs": [],
      "source": [
        "def summer(decomposition):\n",
        "    keys = ['face']\n",
        "    HAAR_features = []\n",
        "    for key in keys:\n",
        "        cA, (cH, cV, cD) = decomposition[key]\n",
        "        HAAR_features.append(round(np.sum(cA),1))\n",
        "        HAAR_features.append(round(np.sum(cH),1))\n",
        "#         HAAR_features.append(round(np.sum(cV),1))\n",
        "        HAAR_features.append(round(np.sum(cD),1))\n",
        "#         HAAR_features.append(np.sum(cA),np.sum(cH),np.sum(cV),np.sum(cD))\n",
        "    return HAAR_features"
      ]
    },
    {
      "cell_type": "code",
      "execution_count": 10,
      "metadata": {
        "id": "6PB40cVYHqSO"
      },
      "outputs": [],
      "source": [
        "def HAAR_filter(face):\n",
        "    decompositions = {'face':[]}\n",
        "    try:\n",
        "      decompositions['face'] = pywt.dwt2(face,'haar','constant')\n",
        "    except:\n",
        "      decompositions['face'] = 1,(1,1,1)\n",
        "    # decompositions['face'] = pywt.dwt2(face,'haar','constant')\n",
        "    return decompositions"
      ]
    },
    {
      "cell_type": "code",
      "execution_count": 11,
      "metadata": {
        "id": "f6kt2-0sHqSP"
      },
      "outputs": [],
      "source": [
        "def Gabor_filter():\n",
        "    kernels = []\n",
        "    angles = [0,22.5,45,67.5,90,112.5,135, 157.5, 180] #determines what orientation kernels respond to\n",
        "    frequencies = [0.2,0.3,0.4] #determines sensitivity to gradients (lines)\n",
        "\n",
        "    for theta in angles:\n",
        "        for frequency in frequencies:\n",
        "            kernel = np.real(gabor_kernel(frequency, theta=theta))\n",
        "            kernels.append(kernel)\n",
        "                             \n",
        "    return kernels"
      ]
    },
    {
      "cell_type": "code",
      "execution_count": 12,
      "metadata": {
        "id": "TFGH_wo-HqSP"
      },
      "outputs": [],
      "source": [
        "def compute_Gabor_features(face, kernels):\n",
        "    features = []\n",
        "    \n",
        "    for k, kernel in enumerate(kernels):\n",
        "        filtered = ndi.convolve(face, kernel, mode='wrap')\n",
        "        features.append((np.sum(filtered)))\n",
        "    \n",
        "    return features"
      ]
    },
    {
      "cell_type": "code",
      "execution_count": 13,
      "metadata": {
        "id": "9Da11KCAHqSQ"
      },
      "outputs": [],
      "source": [
        "def create_haar_features(folder_path, target): \n",
        "    column_names = [str(x) for x in range(31)]\n",
        "    df = pd.DataFrame(columns=column_names)\n",
        "\n",
        "\n",
        "    for dirpath, dirnames, filenames in os.walk(folder_path):\n",
        "        for filename in filenames:\n",
        "            if filename.endswith('.jpg'):\n",
        "                source_file = os.path.join(dirpath, filename)\n",
        "                image = cv2.imread(source_file, cv2.IMREAD_GRAYSCALE)\n",
        "                \n",
        "                [face] = crop_img(image)\n",
        "          \n",
        "            \n",
        "                decompositions = HAAR_filter(face)\n",
        "                HAAR_features = summer(decompositions)\n",
        "\n",
        "\n",
        "                features = HAAR_features\n",
        "    \n",
        "                \n",
        "                kernels = Gabor_filter()\n",
        "                Gabor_features = compute_Gabor_features(face, kernels)\n",
        "                [features.append(feat) for feat in Gabor_features]\n",
        "                features = np.append(features,target)\n",
        "\n",
        "                \n",
        "                df.loc[len(df), :] = features\n",
        "                \n",
        "                \n",
        "    return [df]"
      ]
    },
    {
      "cell_type": "code",
      "execution_count": 14,
      "metadata": {
        "id": "LYhicgx3HqSp"
      },
      "outputs": [],
      "source": [
        "def face_as_df(folder_path, target):\n",
        "    column_names = [str(x) for x in range(3601)]\n",
        "    df = pd.DataFrame(columns=column_names)\n",
        "    \n",
        "    counter = 0\n",
        "    \n",
        "    for dirpath, dirnames, filenames in os.walk(folder_path):\n",
        "        for filename in filenames:\n",
        "            if filename.endswith('.jpg'):\n",
        "                source_file = os.path.join(dirpath, filename)\n",
        "                image = cv2.imread(source_file, cv2.IMREAD_GRAYSCALE)\n",
        "                \n",
        "                [face] = crop_img(image)\n",
        "\n",
        "                if len(face) > 0:\n",
        "                  resized_face = cv2.resize(face, (60, 60))\n",
        "\n",
        "                else:\n",
        "                  resized_face = cv2.resize(image, (60, 60))\n",
        "                \n",
        "                features = resized_face.flatten()\n",
        "                \n",
        "                features = np.append(features,target)\n",
        "                \n",
        "                df.loc[len(df), :] = features\n",
        "                \n",
        "                \n",
        "    return [df]"
      ]
    },
    {
      "cell_type": "markdown",
      "source": [
        "### Accessing data"
      ],
      "metadata": {
        "id": "IIbrGpBBKxsh"
      }
    },
    {
      "cell_type": "code",
      "source": [
        "def get_data(mode):\n",
        "  if mode == 'scratch':\n",
        "    !unzip /content/drive/MyDrive/Celeb_evaluation.zip -d /content/drive/MyDrive/\n",
        "    \n",
        "    #To get handcrafted features\n",
        "    test_haar_real = create_haar_features('/content/drive/MyDrive/Celeb_evaluation/real', 'real')\n",
        "    test_haar_fake = create_haar_features('/content/drive/MyDrive/Celeb_evaluation/fake', 'fake') \n",
        "    df_test = pd.concat([test_haar_real, test_haar_fake], axis=0).reset_index(drop=True)\n",
        "\n",
        "    #To get face image for CNN features\n",
        "    test_face_real = face_as_df('/content/drive/MyDrive/Celeb_evaluation/real', 'real')\n",
        "    test_face_fake = face_as_df('/content/drive/MyDrive/Celeb_evaluation/fake', 'fake')\n",
        "    df_face_test = pd.concat([test_face_real, test_face_fake], axis=0).reset_index(drop=True)\n",
        "\n",
        "  else:\n",
        "    df_test = pd.read_csv('/content/drive/MyDrive/celeb_df_unshuffled')\n",
        "    df_face_test = pd.read_csv('/content/drive/MyDrive/celeb_df_face_unshuffled')\n",
        "  return [df_test, df_face_test]"
      ],
      "metadata": {
        "id": "lmtFCsSdLIXB"
      },
      "execution_count": 60,
      "outputs": []
    },
    {
      "cell_type": "code",
      "source": [
        "mode = 'from_df'\n",
        "[df_test, df_face_test] = get_data(mode)"
      ],
      "metadata": {
        "id": "8ADAJzHNZkxN"
      },
      "execution_count": 85,
      "outputs": []
    },
    {
      "cell_type": "markdown",
      "metadata": {
        "id": "_UCFOOWQHqSJ"
      },
      "source": [
        "### Preprocessing & feature extraction"
      ]
    },
    {
      "cell_type": "markdown",
      "source": [
        "##### Processing Face Image and resizing for CNN"
      ],
      "metadata": {
        "id": "HmxAjsUxQbUW"
      }
    },
    {
      "cell_type": "code",
      "execution_count": 65,
      "metadata": {
        "id": "uAHR92VfHqSs"
      },
      "outputs": [],
      "source": [
        "df_face_test = df_face_test.drop(df_face_test.columns[0],axis=1)\n",
        "df_face_test['3600'] = df_face_test['3600'].map({'real': 0, 'fake': 1})"
      ]
    },
    {
      "cell_type": "code",
      "execution_count": 66,
      "metadata": {
        "id": "pof3z4-vHqSs"
      },
      "outputs": [],
      "source": [
        "face_test_labels = df_face_test['3600']"
      ]
    },
    {
      "cell_type": "code",
      "execution_count": 67,
      "metadata": {
        "id": "7KkNf3TgHqSs"
      },
      "outputs": [],
      "source": [
        "face_test_labels_one_hot = keras.utils.to_categorical(face_test_labels, 2)"
      ]
    },
    {
      "cell_type": "code",
      "execution_count": 68,
      "metadata": {
        "id": "Wm6f4n3kHqSt"
      },
      "outputs": [],
      "source": [
        "face_test_data = df_face_test.drop(columns=['3600'])"
      ]
    },
    {
      "cell_type": "code",
      "execution_count": 69,
      "metadata": {
        "id": "PFco0AJzHqSt"
      },
      "outputs": [],
      "source": [
        "face_x_test = np.array([np.array(face_test_data.loc[x,:]).reshape((60, 60)) for x in range(face_test_data.shape[0])])"
      ]
    },
    {
      "cell_type": "markdown",
      "source": [
        "##### Processing Handcrafted Feature obtained Haar and Gabor filters"
      ],
      "metadata": {
        "id": "sb4HGpyvPiOv"
      }
    },
    {
      "cell_type": "code",
      "execution_count": 87,
      "metadata": {
        "id": "gEigveDjHqSv"
      },
      "outputs": [],
      "source": [
        "df_test = df_test.drop(df_test.columns[0],axis=1)\n",
        "df_test['30'] = df_test['30'].map({'real': 0, 'fake': 1})"
      ]
    },
    {
      "cell_type": "code",
      "execution_count": 88,
      "metadata": {
        "id": "p2a-n4lCHqSv"
      },
      "outputs": [],
      "source": [
        "test_labels = df_test['30']"
      ]
    },
    {
      "cell_type": "code",
      "execution_count": 89,
      "metadata": {
        "id": "MU0vEPfRHqSw"
      },
      "outputs": [],
      "source": [
        "test_labels_one_hot = keras.utils.to_categorical(test_labels, 2)"
      ]
    },
    {
      "cell_type": "code",
      "execution_count": 90,
      "metadata": {
        "id": "eM7TKjG_HqSw"
      },
      "outputs": [],
      "source": [
        "test_data = df_test.drop(df_test.columns[-1],axis=1)"
      ]
    },
    {
      "cell_type": "markdown",
      "source": [
        "### Importing the model"
      ],
      "metadata": {
        "id": "CMNfBHIASxV5"
      }
    },
    {
      "cell_type": "code",
      "source": [
        "model = keras.models.load_model('/content/drive/MyDrive/task1_model.h5')"
      ],
      "metadata": {
        "id": "8fCptuCVitPi"
      },
      "execution_count": 44,
      "outputs": []
    },
    {
      "cell_type": "markdown",
      "source": [
        "### Evaluating model performance by comparing predictions to ground truth"
      ],
      "metadata": {
        "id": "0BFSZYfnS8QT"
      }
    },
    {
      "cell_type": "markdown",
      "source": [
        "##### Obtaining Groundtruth"
      ],
      "metadata": {
        "id": "RNKDWNC8TTd5"
      }
    },
    {
      "cell_type": "code",
      "source": [
        "def get_ground_truth():\n",
        "  zeros = np.zeros(300).astype(int).tolist()\n",
        "  ones = np.ones(300).astype(int).tolist()\n",
        "\n",
        "  y_true = zeros + ones\n",
        "  return y_true"
      ],
      "metadata": {
        "id": "vgOSYLDuTsnv"
      },
      "execution_count": 95,
      "outputs": []
    },
    {
      "cell_type": "code",
      "source": [
        "y_true = get_ground_truth()"
      ],
      "metadata": {
        "id": "iptiNZWlUH2y"
      },
      "execution_count": 96,
      "outputs": []
    },
    {
      "cell_type": "markdown",
      "source": [
        "##### Obtaining Predictions"
      ],
      "metadata": {
        "id": "xZ_pFiaHVoQV"
      }
    },
    {
      "cell_type": "code",
      "source": [
        "def get_result():\n",
        "  pred = model.predict([np.asarray(face_x_test).astype('float32'), np.asarray(test_data).astype('float32')])\n",
        "  result = []\n",
        "  for i in range(len(pred)):\n",
        "    if pred[i][0] > pred[i][1]:\n",
        "      result.append(0)\n",
        "    else:\n",
        "      result.append(1)\n",
        "\n",
        "  return result"
      ],
      "metadata": {
        "id": "6BHIo6gkfYNE"
      },
      "execution_count": 97,
      "outputs": []
    },
    {
      "cell_type": "code",
      "source": [
        "y_pred = get_result()"
      ],
      "metadata": {
        "id": "iUI7s7XZczdf",
        "colab": {
          "base_uri": "https://localhost:8080/"
        },
        "outputId": "2ea6eba8-baa2-4e97-f5ed-3a8daf45c088"
      },
      "execution_count": 98,
      "outputs": [
        {
          "output_type": "stream",
          "name": "stdout",
          "text": [
            "19/19 [==============================] - 1s 39ms/step\n"
          ]
        }
      ]
    },
    {
      "cell_type": "markdown",
      "source": [
        "##### Confusion Matrix"
      ],
      "metadata": {
        "id": "PNn2HCgiVss6"
      }
    },
    {
      "cell_type": "code",
      "source": [
        "print(f'Confusion Matrix is: {confusion_matrix(y_true, y_pred)}')"
      ],
      "metadata": {
        "id": "NmUx9Zzyc1pp",
        "colab": {
          "base_uri": "https://localhost:8080/"
        },
        "outputId": "d62c6cb3-bede-4f5e-d7e6-314b88d5887b"
      },
      "execution_count": 99,
      "outputs": [
        {
          "output_type": "stream",
          "name": "stdout",
          "text": [
            "Confusion Matrix is: [[181 119]\n",
            " [181 119]]\n"
          ]
        }
      ]
    },
    {
      "cell_type": "markdown",
      "source": [
        "##### Prediction Accuracy"
      ],
      "metadata": {
        "id": "2Zeos2nOW1Kv"
      }
    },
    {
      "cell_type": "code",
      "source": [
        "print(f'Accuracy is: {accuracy_score(y_true, y_pred)}')"
      ],
      "metadata": {
        "id": "J_NCFv2OWyN4",
        "colab": {
          "base_uri": "https://localhost:8080/"
        },
        "outputId": "960040ba-0ea7-497b-8bdb-7ebce2efd8fb"
      },
      "execution_count": 100,
      "outputs": [
        {
          "output_type": "stream",
          "name": "stdout",
          "text": [
            "Accuracy is: 0.5\n"
          ]
        }
      ]
    },
    {
      "cell_type": "markdown",
      "source": [
        "##### Plotting Curves"
      ],
      "metadata": {
        "id": "Jk8aOAma_iiG"
      }
    },
    {
      "cell_type": "code",
      "source": [
        "from sklearn.metrics import roc_curve, auc\n",
        "\n",
        "fpr, tpr, thresholds = roc_curve(y_true, y_pred)\n",
        "\n",
        "# Compute area under the curve (AUC)\n",
        "roc_auc = auc(fpr, tpr)\n",
        "\n",
        "# Plot ROC curve\n",
        "plt.plot(fpr, tpr, label=f'AUC = {roc_auc:.2f}',color='red')\n",
        "plt.plot([0, 1], [0, 1], linestyle='--', color='blue', label='Random Classifier')\n",
        "plt.xlabel('False Positive Rate')\n",
        "plt.ylabel('True Positive Rate')\n",
        "plt.title('Receiver Operating Characteristic (ROC) Curve')\n",
        "plt.legend()\n",
        "plt.show()"
      ],
      "metadata": {
        "colab": {
          "base_uri": "https://localhost:8080/",
          "height": 472
        },
        "id": "gAAckNJe_d-F",
        "outputId": "d1425f35-40f2-4cc6-adb7-781ccf7cc8bd"
      },
      "execution_count": 101,
      "outputs": [
        {
          "output_type": "display_data",
          "data": {
            "text/plain": [
              "<Figure size 640x480 with 1 Axes>"
            ],
            "image/png": "[encoded data removed]"
          },
          "metadata": {}
        }
      ]
    }
  ],
  "metadata": {
    "kernelspec": {
      "display_name": "Python 3 (ipykernel)",
      "language": "python",
      "name": "python3"
    },
    "language_info": {
      "codemirror_mode": {
        "name": "ipython",
        "version": 3
      },
      "file_extension": ".py",
      "mimetype": "text/x-python",
      "name": "python",
      "nbconvert_exporter": "python",
      "pygments_lexer": "ipython3",
      "version": "3.9.7"
    },
    "colab": {
      "provenance": [],
      "gpuType": "T4",
      "collapsed_sections": [
        "-1E4ruOKKKPr",
        "2oyBXKHENaiP",
        "IIbrGpBBKxsh",
        "HmxAjsUxQbUW",
        "sb4HGpyvPiOv",
        "CMNfBHIASxV5"
      ]
    },
    "gpuClass": "standard"
  },
  "nbformat": 4,
  "nbformat_minor": 0
}